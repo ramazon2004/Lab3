{
 "cells": [
  {
   "cell_type": "markdown",
   "metadata": {
    "id": "0z3KlfKDn4_K"
   },
   "source": [
    "# Лабораторная работа 3. \n",
    "# Сетевые алгоритмы. Динамические алгоритмы поиска путей.\n"
   ]
  },
  {
   "cell_type": "markdown",
   "metadata": {
    "id": "96Gi_LEvmSVH"
   },
   "source": [
    "## Выполнил студент группы  БСТ2201 Розикзода.Р.Р\n",
    "***"
   ]
  },
  {
   "cell_type": "markdown",
   "metadata": {
    "id": "GjdIp8aToKIe"
   },
   "source": [
    "### Задание\n",
    "\n",
    "1.  Реализовать алгоритм поиска кратчайшего расстояния между двумя вершинами ориентированного взвешенного графа в соответствии с вариантом. \n",
    "\n",
    "2.  Предусмотреть задание графа в виде матрицы смежности/инцидентности, читаемой из файла, либо графически с помощью пользовательского интерфейса. \n",
    "\n",
    "3.  Разработать графический интерфейс пользователя с визуализацией графа и отображением кратчайшего расстояния между задаваемыми пользователем вершинами.\n",
    "\n",
    "4. По результатам работы проанализировать временную сложность работы заданного алгоритма в зависимости от числа узлов и ребер графа.\n",
    "Данные представить в виде таблицы.\n",
    "\n"
   ]
  },
  {
   "cell_type": "markdown",
   "metadata": {
    "id": "LhhUXrAmotIA"
   },
   "source": [
    "### Алгоритмы:\n",
    "\n",
    "Алгоритм Флойда-Уоршелла| Алгоритм Дейкстры | Алгоритм Беллмана-Форда | Алгоритм Джонсона| Алгоритм Левита | Алгоритм Йена\n",
    "\n"
   ]
  },
  {
   "cell_type": "markdown",
   "metadata": {
    "id": "Wggfn8l7nG72"
   },
   "source": [
    "### Выполнение:"
   ]
  },
  {
   "cell_type": "code",
   "execution_count": 4,
   "metadata": {},
   "outputs": [],
   "source": [
    "import networkx as nx\n",
    "import matplotlib.pyplot as plt\n",
    "from queue import Queue\n",
    "import heapq"
   ]
  },
  {
   "cell_type": "code",
   "execution_count": 5,
   "metadata": {},
   "outputs": [],
   "source": [
    "class Graph:\n",
    "    def __init__(self, vertices):\n",
    "        self.V = vertices  \n",
    "        self.graph = []  \n",
    "    \n",
    "    # Функция добавления ребра в список смежности\n",
    "    def addEdge(self, u, v, w):\n",
    "        self.graph.append([u, v, w])\n",
    "    \n",
    "    # Функция для вывода расстояний от источника до каждой вершины\n",
    "    def printArr(self, dist):\n",
    "        print(\"Расстояние вершины от источника\")\n",
    "        for i in range(self.V):\n",
    "            if dist[i] == float('inf'):\n",
    "                print(\"% d \\t\\t %s\" % (i, \" 0\"))\n",
    "            else:\n",
    "                print(\"% d \\t\\t % d\" % (i, dist[i]))\n",
    "                \n",
    "    # Алгоритм Флойда-Уоршелла (временная сложность O(n^3))\n",
    "    def floydWarshall(self):\n",
    "        # Создаем матрицу расстояний dist размером VxV, и заполняем ее бесконечными значениями.\n",
    "        dist = [[float('inf')] * self.V for _ in range(self.V)]\n",
    "\n",
    "        # Заполняем матрицу расстояний известными значениями весов ребер графа.\n",
    "        for u, v, w in self.graph:\n",
    "            dist[u][v] = w\n",
    "\n",
    "        for k in range(self.V):\n",
    "            for i in range(self.V):\n",
    "                for j in range(self.V):\n",
    "                    # Обновляем значение расстояния между вершинами i и j, если найден более короткий путь через вершину k.\n",
    "                    dist[i][j] = min(dist[i][j], dist[i][k] + dist[k][j])\n",
    "\n",
    "        return dist[0]\n",
    "    \n",
    "    # Алгоритм Дейкстры (временная сложность O(n^2))\n",
    "    def dijkstra(self, src):\n",
    "        # Инициализируем список расстояний как бесконечности для всех вершин кроме источника\n",
    "        dist = [float('inf')] * self.V\n",
    "        dist[src] = 0\n",
    "        # Инициализируем очередь с приоритетом и добавляем источник в нее\n",
    "        pq = [(0, src)]\n",
    "        # Обрабатываем вершины пока очередь не станет пустой\n",
    "        while pq:\n",
    "            # Извлекаем вершину с наименьшим расстоянием из очереди\n",
    "            (curr_dist, curr_node) = heapq.heappop(pq)\n",
    "            # Перебираем соседей текущей вершины\n",
    "            for (next_node, weight) in self.get_neighbors(curr_node):\n",
    "                # Вычисляем новое расстояние от источника до соседней вершины через текущую вершину\n",
    "                new_dist = curr_dist + weight\n",
    "                # Если новое расстояние меньше, чем старое, обновляем расстояние и добавляем соседнюю вершину в очередь\n",
    "                if new_dist < dist[next_node]:\n",
    "                    dist[next_node] = new_dist\n",
    "                    heapq.heappush(pq, (new_dist, next_node))\n",
    "        # Выводим расстояния от источника до каждой вершины\n",
    "        return dist\n",
    "    \n",
    "    # Возвращает список соседей данной вершины\n",
    "    def get_neighbors(self, node):\n",
    "        neighbors = []\n",
    "        for edge in self.graph:\n",
    "            if edge[0] == node:\n",
    "                neighbors.append((edge[1], edge[2]))\n",
    "        return neighbors\n",
    "        \n",
    "    \n",
    "    # Алгоритм Беллмана-Форда (временная сложность O(n^3))\n",
    "    def BellmanFord(self, src):\n",
    "        # Инициализация массива расстояний до всех вершин как бесконечности, Расстояние до источника равно 0\n",
    "        dist = [float(\"inf\")] * self.V \n",
    "        dist[src] = 0 \n",
    "        for i in range(self.V - 1): # Выполняем цикл V-1 раз, где V - количество вершин в графе\n",
    "            for u, v, w in self.graph: \n",
    "                # Если расстояние до текущей вершины u не бесконечность и сумма расстояния до u \n",
    "                # веса ребра (u, v) меньше текущего расстояния до вершины v\n",
    "                if dist[u] != float(\"inf\") and dist[u] + w < dist[v]: \n",
    "                    dist[v] = dist[u] + w # Обновляем расстояние до вершины v\n",
    "        return dist \n",
    "    \n",
    "    # Алгоритм Джонсона\n",
    "    def Johnson(self, src):\n",
    "        self.V += 1 # Увеличиваем количество вершин на 1, чтобы добавить исток (src) в граф\n",
    "        # Добавляем ребра из нового истока во все остальные вершины\n",
    "        self.graph.extend([[self.V - 1, i, 0] for i in range(self.V - 1)])\n",
    "        # Выполняем алгоритм Беллмана-Форда для определения кратчайших путей от нового истока\n",
    "        h = self.BellmanFord(self.V - 1) \n",
    "        \n",
    "        # Обновляем веса ребер в графе с учетом найденных кратчайших путей от нового истока\n",
    "        for i in range(len(self.graph)):\n",
    "            self.graph[i][2] += h[self.graph[i][0]] - h[self.graph[i][1]]\n",
    "        # Инициализируем двумерный массив для хранения кратчайших путей\n",
    "        shortest_paths = [[float('inf')] * self.V for _ in range(self.V)]\n",
    "        \n",
    "        # Выполняем алгоритм Дейкстры для каждой вершины графа, с учетом найденных кратчайших путей от нового истока\n",
    "        for i in range(self.V):\n",
    "            dist = self.dijkstra(i)\n",
    "            for j in range(self.V):\n",
    "                # Обновляем длину пути с учетом найденных кратчайших путей от нового истока\n",
    "                shortest_paths[i][j] = dist[j] + h[j] - h[i] \n",
    "        \n",
    "        # Восстанавливаем исходные веса ребер в графе\n",
    "        for i in range(len(self.graph)):\n",
    "            self.graph[i][2] -= h[self.graph[i][0]] - h[self.graph[i][1]]\n",
    "            \n",
    "        # Возвращаем кратчайшие пути от источника (src) в виде массива\n",
    "        return shortest_paths[src] \n",
    "\n",
    "    #  Алгоритм Левита    \n",
    "    def levitAlgorithm(graph, src):\n",
    "        results = []\n",
    "        # Инициализация массива расстояний до всех вершин как бесконечности, Расстояние до источника равно 0\n",
    "        dist = [float('inf')] * graph.V\n",
    "        dist[src] = 0\n",
    "        first_layer, second_layer, third_layer = [src], [], []\n",
    "        \n",
    "        # Список для отслеживания наличия вершины в очереди на обработку\n",
    "        in_queue = [False] * graph.V\n",
    "        in_queue[src] = True\n",
    "        # Список для отслеживания уже обработанных вершин\n",
    "        processed = [False] * graph.V\n",
    "        \n",
    "        # Пока есть вершины на одном из уровней\n",
    "        while first_layer or second_layer or third_layer:\n",
    "            while first_layer:\n",
    "                u = first_layer.pop(0)\n",
    "                in_queue[u] = False\n",
    "                processed[u] = True\n",
    "                for edge in graph.graph:\n",
    "                    if edge[0] == u:\n",
    "                        v = edge[1]\n",
    "                        w = edge[2]\n",
    "                        if dist[v] > dist[u] + w:\n",
    "                            dist[v] = dist[u] + w\n",
    "                            if not in_queue[v]:\n",
    "                                in_queue[v] = True\n",
    "                                second_layer.append(v)\n",
    "            \n",
    "            while second_layer:\n",
    "                u = second_layer.pop(0)\n",
    "                in_queue[u] = False\n",
    "                for edge in graph.graph:\n",
    "                    if edge[0] == u:\n",
    "                        v = edge[1]\n",
    "                        w = edge[2]\n",
    "                        if dist[v] > dist[u] + w:\n",
    "                            dist[v] = dist[u] + w\n",
    "                            if not in_queue[v]:\n",
    "                                in_queue[v] = True\n",
    "                                if v not in third_layer:\n",
    "                                    third_layer.append(v)\n",
    "            \n",
    "            while third_layer:\n",
    "                u = third_layer.pop(0)\n",
    "                in_queue[u] = False\n",
    "                processed[u] = True\n",
    "                for edge in graph.graph:\n",
    "                    if edge[0] == u:\n",
    "                        v = edge[1]\n",
    "                        w = edge[2]\n",
    "                        if dist[v] > dist[u] + w:\n",
    "                            dist[v] = dist[u] + w\n",
    "                            if not in_queue[v]:\n",
    "                                in_queue[v] = True\n",
    "                                if v not in second_layer and v not in third_layer:\n",
    "                                    second_layer.append(v)\n",
    "            \n",
    "            if not first_layer and not second_layer and not third_layer:\n",
    "                for edge in graph.graph:\n",
    "                    u = edge[0]\n",
    "                    v = edge[1]\n",
    "                    w = edge[2]\n",
    "                    if dist[v] > dist[u] + w and processed[u]:\n",
    "                        print(\"Graph contains negative cycle.\")\n",
    "                        return\n",
    "        \n",
    "        return dist\n",
    "    \n",
    "     # Алгоритм Йена\n",
    "    def yenAlgorithm(self, src):\n",
    "        # Создаем список для хранения результатов\n",
    "        results = []\n",
    "        # Создаем список расстояний и инициализируем его значением бесконечности и \n",
    "        # Устанавливаем расстояние от исходной вершины до самой себя равным 0\n",
    "        dist = [float('inf')] * self.V\n",
    "        dist[src] = 0\n",
    "        # Создаем очередь с приоритетом для обработки вершин\n",
    "        pq = [(0, src)]\n",
    "        # Пока очередь не пуста\n",
    "        while pq:\n",
    "            # Извлекаем вершину с наименьшим расстоянием\n",
    "            (d, u) = heapq.heappop(pq)\n",
    "            # Для каждого ребра из текущей вершины\n",
    "            for edge in self.graph:\n",
    "                if edge[0] == u:\n",
    "                    v = edge[1]\n",
    "                    w = edge[2]\n",
    "                    # Если найденное расстояние до вершины v меньше, чем текущее известное расстояние\n",
    "                    if dist[v] > dist[u] + w:\n",
    "                        # Обновляем расстояние\n",
    "                        dist[v] = dist[u] + w\n",
    "                        # Добавляем вершину v в очередь с приоритетом\n",
    "                        heapq.heappush(pq, (dist[v], v))\n",
    "        \n",
    "        return dist"
   ]
  },
  {
   "cell_type": "code",
   "execution_count": 7,
   "metadata": {},
   "outputs": [
    {
     "name": "stdin",
     "output_type": "stream",
     "text": [
      "Введите данные:  1\n",
      "Введите данные:  2\n"
     ]
    },
    {
     "ename": "NameError",
     "evalue": "name 'Graph' is not defined",
     "output_type": "error",
     "traceback": [
      "\u001b[1;31m---------------------------------------------------------------------------\u001b[0m",
      "\u001b[1;31mNameError\u001b[0m                                 Traceback (most recent call last)",
      "Cell \u001b[1;32mIn[7], line 5\u001b[0m\n\u001b[0;32m      3\u001b[0m n \u001b[38;5;241m=\u001b[39m \u001b[38;5;28mint\u001b[39m(\u001b[38;5;28minput\u001b[39m(\u001b[38;5;124m\"\u001b[39m\u001b[38;5;124mВведите данные: \u001b[39m\u001b[38;5;124m\"\u001b[39m))\n\u001b[0;32m      4\u001b[0m m \u001b[38;5;241m=\u001b[39m \u001b[38;5;28mint\u001b[39m(\u001b[38;5;28minput\u001b[39m(\u001b[38;5;124m\"\u001b[39m\u001b[38;5;124mВведите данные: \u001b[39m\u001b[38;5;124m\"\u001b[39m))\n\u001b[1;32m----> 5\u001b[0m graph \u001b[38;5;241m=\u001b[39m Graph(n)\n\u001b[0;32m      6\u001b[0m G \u001b[38;5;241m=\u001b[39m nx\u001b[38;5;241m.\u001b[39mDiGraph()\n\u001b[0;32m      7\u001b[0m \u001b[38;5;28;01mfor\u001b[39;00m f \u001b[38;5;129;01min\u001b[39;00m \u001b[38;5;28mrange\u001b[39m(m):\n",
      "\u001b[1;31mNameError\u001b[0m: name 'Graph' is not defined"
     ]
    }
   ],
   "source": [
    "text = open(\"graph.txt\")\n",
    "\n",
    "n = int(input(\"Введите данные: \"))\n",
    "m = int(input(\"Введите данные: \"))\n",
    "graph = Graph(n)\n",
    "G = nx.DiGraph()\n",
    "for f in range(m):\n",
    "    u, v, w = tuple(map(int, text.readline().split()))\n",
    "    graph.addEdge(u, v, w)\n",
    "    G.add_edge(u, v, weight = w)"
   ]
  },
  {
   "cell_type": "code",
   "execution_count": 4,
   "metadata": {},
   "outputs": [
    {
     "ename": "NameError",
     "evalue": "name 'G' is not defined",
     "output_type": "error",
     "traceback": [
      "\u001b[1;31m---------------------------------------------------------------------------\u001b[0m",
      "\u001b[1;31mNameError\u001b[0m                                 Traceback (most recent call last)",
      "Cell \u001b[1;32mIn[4], line 2\u001b[0m\n\u001b[0;32m      1\u001b[0m \u001b[38;5;28;01mimport\u001b[39;00m \u001b[38;5;21;01mnetworkx\u001b[39;00m \u001b[38;5;28;01mas\u001b[39;00m \u001b[38;5;21;01mnx\u001b[39;00m\n\u001b[1;32m----> 2\u001b[0m pos \u001b[38;5;241m=\u001b[39m nx\u001b[38;5;241m.\u001b[39mcircular_layout(G)\n\u001b[0;32m      3\u001b[0m nx\u001b[38;5;241m.\u001b[39mdraw(G, pos, with_labels \u001b[38;5;241m=\u001b[39m \u001b[38;5;28;01mTrue\u001b[39;00m)\n\u001b[0;32m      4\u001b[0m edge_weight \u001b[38;5;241m=\u001b[39m nx\u001b[38;5;241m.\u001b[39mget_edge_attributes(G,\u001b[38;5;124m'\u001b[39m\u001b[38;5;124mweight\u001b[39m\u001b[38;5;124m'\u001b[39m)\n",
      "\u001b[1;31mNameError\u001b[0m: name 'G' is not defined"
     ]
    }
   ],
   "source": [
    "\n",
    "import networkx as nx\n",
    "pos = nx.circular_layout(G)\n",
    "nx.draw(G, pos, with_labels = True)\n",
    "edge_weight = nx.get_edge_attributes(G,'weight')\n",
    "nx.draw_networkx_edge_labels(G, pos, edge_labels = edge_weight)\n",
    "plt.show()"
   ]
  },
  {
   "cell_type": "code",
   "execution_count": 12,
   "metadata": {},
   "outputs": [
    {
     "name": "stdout",
     "output_type": "stream",
     "text": [
      "Алгоритм Беллмана-Форда :\n",
      "Расстояние вершины от источника\n",
      " 0 \t\t  0\n",
      " 1 \t\t -1\n",
      " 2 \t\t  2\n",
      " 3 \t\t -2\n",
      " 4 \t\t  1\n",
      " 5 \t\t  0\n"
     ]
    }
   ],
   "source": [
    "g = graph\n",
    "\n",
    "print(\"Алгоритм Беллмана-Форда :\")\n",
    "g.printArr(g.BellmanFord(0))"
   ]
  },
  {
   "cell_type": "markdown",
   "metadata": {},
   "source": [
    "##### g = graph\n",
    "\n",
    "print(\"Алгоритм Дейкстры:\")\n",
    "g.printArr(g.dijkstra(0))"
   ]
  },
  {
   "cell_type": "code",
   "execution_count": 10,
   "metadata": {},
   "outputs": [
    {
     "name": "stdout",
     "output_type": "stream",
     "text": [
      "Алгоритм Флойда-Уоршелла:\n",
      "Расстояние вершины от источника\n",
      " 0 \t\t  0\n",
      " 1 \t\t -1\n",
      " 2 \t\t  2\n",
      " 3 \t\t -2\n",
      " 4 \t\t  1\n"
     ]
    }
   ],
   "source": [
    "g = graph\n",
    "\n",
    "print(\"Алгоритм Флойда-Уоршелла:\")\n",
    "g.printArr(g.floydWarshall())"
   ]
  },
  {
   "cell_type": "code",
   "execution_count": 11,
   "metadata": {},
   "outputs": [
    {
     "name": "stdout",
     "output_type": "stream",
     "text": [
      "Алгоритм Джонсона:\n",
      "Расстояние вершины от источника\n",
      " 0 \t\t  0\n",
      " 1 \t\t -1\n",
      " 2 \t\t  2\n",
      " 3 \t\t -2\n",
      " 4 \t\t  1\n",
      " 5 \t\t  0\n"
     ]
    }
   ],
   "source": [
    "g = graph\n",
    "\n",
    "print(\"Алгоритм Джонсона:\")\n",
    "g.printArr(g.Johnson(0))"
   ]
  },
  {
   "cell_type": "code",
   "execution_count": 81,
   "metadata": {},
   "outputs": [
    {
     "name": "stdout",
     "output_type": "stream",
     "text": [
      "Levit algorithm:\n",
      "Расстояние вершины от источника\n",
      " 0 \t\t  0\n",
      " 1 \t\t -1\n",
      " 2 \t\t  2\n",
      " 3 \t\t -2\n",
      " 4 \t\t  1\n",
      " 5 \t\t  0\n"
     ]
    }
   ],
   "source": [
    "g = graph\n",
    "\n",
    "print(\"Levit algorithm:\")\n",
    "g.printArr(g.levitAlgorithm(0))"
   ]
  },
  {
   "cell_type": "code",
   "execution_count": 8,
   "metadata": {},
   "outputs": [
    {
     "name": "stdout",
     "output_type": "stream",
     "text": [
      "Алгоритм Йена:\n",
      "Расстояние вершины от источника\n",
      " 0 \t\t  0\n",
      " 1 \t\t -1\n",
      " 2 \t\t  2\n",
      " 3 \t\t -2\n",
      " 4 \t\t  1\n"
     ]
    }
   ],
   "source": [
    "g = graph\n",
    "\n",
    "print(\"Алгоритм Йена:\")\n",
    "g.printArr(g.yenAlgorithm(0))"
   ]
  },
  {
   "cell_type": "markdown",
   "metadata": {
    "id": "diOb-K7LnO5a"
   },
   "source": [
    "### Вывод"
   ]
  },
  {
   "cell_type": "markdown",
   "metadata": {},
   "source": [
    "Реализовали алгоритм поиска кратчайшего расстояния между двумя вершинами ориентированного взвешенного графа в соответствии с вариантом. \n",
    "\n",
    "Предусмотрели задание графа в виде матрицы смежности/инцидентности, читаемой из файла, либо графически с помощью пользовательского интерфейса. \n",
    "\n",
    "Разработать графический интерфейс пользователя с визуализацией графа.\n",
    "\n",
    "\n",
    "| Алгоритм | Временная сложность в худшем случае |\n",
    "| ----------- | ----------- |\n",
    "| Беллман-Форд | O(V * E) |\n",
    "| Дейкстра | O(V^2) |\n",
    "| Флойд-Уоршелл | O(V^3) |\n",
    "| Джонсон | O(V^2 * log V + V * E) |\n",
    "| Левит | O(V * E + V^2 * log V) |\n",
    "| Йен | O(k * (V + E)) (для k-го кратчайшего пути) |"
   ]
  }
 ],
 "metadata": {
  "colab": {
   "provenance": []
  },
  "kernelspec": {
   "display_name": "Python 3 (ipykernel)",
   "language": "python",
   "name": "python3"
  },
  "language_info": {
   "codemirror_mode": {
    "name": "ipython",
    "version": 3
   },
   "file_extension": ".py",
   "mimetype": "text/x-python",
   "name": "python",
   "nbconvert_exporter": "python",
   "pygments_lexer": "ipython3",
   "version": "3.11.7"
  }
 },
 "nbformat": 4,
 "nbformat_minor": 4
}
